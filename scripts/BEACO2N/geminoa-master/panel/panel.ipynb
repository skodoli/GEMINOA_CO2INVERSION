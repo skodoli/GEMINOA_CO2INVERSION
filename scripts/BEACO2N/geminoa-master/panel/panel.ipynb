{
 "cells": [
  {
   "cell_type": "code",
   "execution_count": null,
   "metadata": {},
   "outputs": [],
   "source": [
    "%matplotlib inline\n",
    "%reload_ext autoreload\n",
    "%autoreload 2"
   ]
  },
  {
   "cell_type": "code",
   "execution_count": null,
   "metadata": {},
   "outputs": [],
   "source": [
    "import pandas as pd\n",
    "import panel as pn\n",
    "from db_helpers import *\n",
    "\n",
    "pn.extension()\n",
    "# notifications=True\n",
    "\n",
    "import holoviews as hv\n",
    "import hvplot.pandas\n",
    "\n",
    "hv.extension(\"bokeh\")"
   ]
  },
  {
   "cell_type": "code",
   "execution_count": null,
   "metadata": {},
   "outputs": [],
   "source": [
    "get_device_ids()[0].__class__"
   ]
  },
  {
   "cell_type": "code",
   "execution_count": null,
   "metadata": {},
   "outputs": [],
   "source": [
    "device_select = pn.widgets.Select(\n",
    "    name=\"Device\", options=get_device_ids(), value=\"Bellahouston Academy (S21)\"\n",
    ")\n",
    "device_select"
   ]
  },
  {
   "cell_type": "code",
   "execution_count": null,
   "metadata": {},
   "outputs": [],
   "source": [
    "# res = [(1, \"nchristos\", 44), (2, \"asdfasdf\", 12)]\n",
    "# for r in res:\n",
    "#     print(OptionDisplayer(r, \"{} {}\", [2, 0]))\n",
    "\n",
    "\n",
    "device_select = pn.widgets.Select(\n",
    "    name=\"Device\",\n",
    "    options=OptionDisplayer.create_list(\n",
    "        get_device_ids(), \"{} ({})\", keys_to_show=[1, 0]\n",
    "    ),\n",
    "    # value=\"Bellahouston Academy (S21)\",\n",
    ")\n",
    "device_select"
   ]
  },
  {
   "cell_type": "code",
   "execution_count": null,
   "metadata": {},
   "outputs": [],
   "source": [
    "device_select.value.input"
   ]
  },
  {
   "cell_type": "code",
   "execution_count": null,
   "metadata": {},
   "outputs": [],
   "source": [
    "measurand_select = pn.widgets.Select(\n",
    "    name=\"Device\", options=get_measurands(device_select.value.input[1])\n",
    ")\n",
    "measurand_select"
   ]
  },
  {
   "cell_type": "code",
   "execution_count": null,
   "metadata": {},
   "outputs": [],
   "source": [
    "line = get_readings(device_select.value.split(\"(\")[-1][:-1], measurand_select.value)"
   ]
  },
  {
   "cell_type": "code",
   "execution_count": null,
   "metadata": {},
   "outputs": [],
   "source": [
    "line.dtypes"
   ]
  },
  {
   "cell_type": "code",
   "execution_count": null,
   "metadata": {},
   "outputs": [],
   "source": [
    "# plot the dataframe\n",
    "plot = line.hvplot.line(\n",
    "    x=\"sensor_timestamp\",\n",
    "    y=\"value\",\n",
    "    title=f\"{device_select.value} - {measurand_select.value}\",\n",
    "    ylabel=measurand_select.value,\n",
    "    xlabel=\"Timestamp\",\n",
    "    width=800,\n",
    "    height=400,\n",
    "    color=\"red\",\n",
    ")"
   ]
  },
  {
   "cell_type": "code",
   "execution_count": null,
   "metadata": {},
   "outputs": [],
   "source": [
    "pn.Column(device_select, measurand_select, plot).servable()"
   ]
  },
  {
   "cell_type": "code",
   "execution_count": null,
   "metadata": {},
   "outputs": [],
   "source": []
  }
 ],
 "metadata": {
  "language_info": {
   "name": "python",
   "pygments_lexer": "ipython3"
  }
 },
 "nbformat": 4,
 "nbformat_minor": 4
}
