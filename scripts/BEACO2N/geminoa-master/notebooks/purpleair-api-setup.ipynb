{
 "cells": [
  {
   "cell_type": "code",
   "execution_count": null,
   "metadata": {},
   "outputs": [],
   "source": [
    "from argparse import ArgumentParser\n",
    "from datetime import datetime, timedelta\n",
    "from pathlib import Path\n",
    "from pprint import pprint as pp\n",
    "import requests"
   ]
  },
  {
   "cell_type": "markdown",
   "metadata": {},
   "source": [
    "***DON'T USE API KEY***\n",
    "\n",
    "We have limited credits. Alejandro is going to contact purpleair as they said something about being able to get data for free.\n",
    "\n",
    "We can use this for some initial testing, but don't want to set up anything regular *yet*."
   ]
  },
  {
   "cell_type": "code",
   "execution_count": null,
   "metadata": {},
   "outputs": [],
   "source": [
    "# API_KEY = \"111D90AF-EC2C-11EE-B9F7-42010A80000D\""
   ]
  },
  {
   "cell_type": "markdown",
   "metadata": {},
   "source": [
    "# Math on sensor data volume\n",
    "\n",
    "Trying to estimate how many 'API Points' we'd use.\n",
    "\n",
    "An API call is 1 credit, and I *think* each field requested is 2 points"
   ]
  },
  {
   "cell_type": "code",
   "execution_count": null,
   "metadata": {},
   "outputs": [],
   "source": [
    "n_fields = 5 #temperature, humidity, pm2.5, time_stamp, voc\n",
    "average = 60 # 10 if possible\n",
    "n_sensors = 100\n",
    "\n",
    "n_samples = (24 * 60) / average # day in minutes, divided by averaging period\n",
    "perday = n_samples * n_fields * n_sensors + 1\n",
    "print(f\"Per day:\\n\\t{n_samples =: }\\n\\t* {n_fields = :}\\n\\t* {n_sensors = :}\\n= {int(perday):_} API credits per day\")\n",
    "print(f\"= {int(perday * 30):_} per month\")\n",
    "print(f\"= {int(perday * 30 * 12):_} per year\")"
   ]
  },
  {
   "cell_type": "code",
   "execution_count": null,
   "metadata": {},
   "outputs": [],
   "source": [
    "fields = [\n",
    "    # station information and status fields\n",
    "    \"name\",\n",
    "    \"model\",\n",
    "    \"latitude\",\n",
    "    \"longitude\",\n",
    "    \"altitude\",\n",
    "    \"uptime\",\n",
    "    # environmental\n",
    "    \"humidity\",\n",
    "    \"temperature\",\n",
    "    \"pressure\",\n",
    "    # miscellaneous\n",
    "    \"voc\",\n",
    "    # \"ozone1\",\n",
    "    \"time_stamp\",\n",
    "    # pm\n",
    "    \"pm1.0\",\n",
    "    \"pm2.5\",\n",
    "    \"pm10.0\",\n",
    "    # particle count\n",
    "    \"0.3_um_count\",\n",
    "    \"0.5_um_count\",\n",
    "    \"1.0_um_count\",\n",
    "    \"2.5_um_count\",\n",
    "    \"5.0_um_count\",\n",
    "    \"10.0_um_count\",\n",
    "]"
   ]
  },
  {
   "cell_type": "code",
   "execution_count": null,
   "metadata": {},
   "outputs": [],
   "source": [
    "fields = [\n",
    "    # station information and status fields\n",
    "    \"name\",\n",
    "    \"uptime\",\n",
    "]\n",
    "\n",
    "outdir = Path(\"./purpleair\").resolve()\n",
    "outdir.mkdir(exist_ok=True)"
   ]
  },
  {
   "cell_type": "code",
   "execution_count": null,
   "metadata": {},
   "outputs": [],
   "source": []
  },
  {
   "cell_type": "code",
   "execution_count": null,
   "metadata": {},
   "outputs": [],
   "source": [
    "# build URL\n",
    "end = datetime.today()\n",
    "start = end - timedelta(days=1)\n",
    "sensor_index = \"OGLASG16\"\n",
    "fieldstr = \",\".join(fields)\n",
    "\n",
    "# averaging (10 min is default)\n",
    "average = 10 # or 0, 30, 60, 360, 1440 (minutes)\n",
    "\n",
    "params = {\n",
    "    \"start_timestamp\": start.strftime(\"%F\"),\n",
    "    \"end_timestamp\": end.strftime(\"%F\"),\n",
    "    \"fields\": \",\".join(fields),\n",
    "    \"average\": average\n",
    "}\n",
    "\n",
    "url = f\"https://api.purpleair.com/v1/sensors/\"\n",
    "\n",
    "# resp = requests.get(url, params = params, headers={\"X-API-Key\": API_KEY})\n",
    "\n",
    "# The lat long box below is just a _VERY ROUGH_ approximate box around glasgow\n",
    "# so that we can filter out the glasgow sensors from the global list of\n",
    "# purpleair sensors\n",
    "resp = requests.get(url, params = {\n",
    "    'fields': 'name',\n",
    "    'nwlng': -4.2827620716106525,\n",
    "    'nwlat': 55.873550361651326,\n",
    "    'selng': -4.228095861367214,\n",
    "    'selat': 55.841992388711006,\n",
    "}, headers={\"X-API-Key\": API_KEY})\n",
    "print(resp)\n",
    "pp(resp.json())\n",
    "print(resp.url)\n"
   ]
  },
  {
   "cell_type": "markdown",
   "metadata": {},
   "source": [
    "# Get a sample of data from a single glasgow sensor"
   ]
  },
  {
   "cell_type": "code",
   "execution_count": null,
   "metadata": {},
   "outputs": [],
   "source": [
    "sensor_index = \"200201\"\n",
    "\n",
    "url = f\"https://api.purpleair.com/v1/sensors/{sensor_index}/history\"\n",
    "\n",
    "# resp = requests.get(url, params = params, headers={\"X-API-Key\": API_KEY})\n",
    "resp = requests.get(\n",
    "    url, params={\"fields\": \"temperature\"}, headers={\"X-API-Key\": API_KEY}\n",
    ")\n",
    "print(resp)\n",
    "pp(resp.json())\n",
    "print(resp.url)"
   ]
  }
 ],
 "metadata": {
  "language_info": {
   "name": "python",
   "pygments_lexer": "ipython3"
  }
 },
 "nbformat": 4,
 "nbformat_minor": 2
}
